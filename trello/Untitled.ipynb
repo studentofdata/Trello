{
 "cells": [
  {
   "cell_type": "code",
   "execution_count": 1,
   "metadata": {
    "collapsed": false
   },
   "outputs": [
    {
     "name": "stderr",
     "output_type": "stream",
     "text": [
      "/Users/Lucy/anaconda/lib/python2.7/site-packages/ipykernel/__main__.py:61: FutureWarning: sort(columns=....) is deprecated, use sort_values(by=.....)\n"
     ]
    }
   ],
   "source": [
    "# -*- coding: utf-8 -*-\n",
    "\"\"\"\n",
    "Created on Fri Aug 19 15:10:48 2016\n",
    "@author: Cloud User\n",
    "TOOD: Move constants and/or inputs to a config file for a proper run through\n",
    " Comment code\n",
    " \n",
    "    Clean up the name, this is a report generating file, treat it as such. \n",
    "\n",
    " Clean up the plots of the report\n",
    " Generate a new section\n",
    " Perhaps a 'what's coming up next' type report\n",
    " Different Color Bar Charts\n",
    "  \n",
    " Living Gantt Chart for Tasks\n",
    "\n",
    "\n",
    "\n",
    "\"\"\"\n",
    "\n",
    "import trello_transform\n",
    "import os\n",
    "import pandas as pd\n",
    "import numpy as np\n",
    "\n",
    "# Setup Cron jobs for daily and weekly report breakdowns for email and to \n",
    "# place into weekly resources discussion\n",
    "\n",
    "# Edit these!\n",
    "start_date = '2017-05-05'\n",
    "end_date   = '2017-05-15'\n",
    "\n",
    "# Grab the the most raw data frame\n",
    "data = trello_transform.generateData()\n",
    "\n",
    "###############################################################################\n",
    "\"\"\" Transform data for Pie Charts in report \"\"\"\n",
    "\n",
    "# Transform the frame for pie charts\n",
    "#data_bd = trello_transform.processPieChartData(data)\n",
    "\n",
    "# Aggregate the frame by departments, sum hours (only available float field to sum)\n",
    "#department_breakdown = data_bd.groupby('departments').aggregate(np.sum)\n",
    "# Aggregate the frame by operations, sum hours (only available float field to sum)\n",
    "#operations_breakdown = data_bd.groupby('operations').aggregate(np.sum)\n",
    "\n",
    "# Only need the type of label and hour for the bar chart\n",
    "#department_breakdown = department_breakdown[['hrs']]\n",
    "#operations_breakdown = operations_breakdown[['hrs']]\n",
    "\n",
    "###############################################################################\n",
    "\"\"\" Transform data for Table in report \"\"\"\n",
    "\n",
    "data_v2 = trello_transform.processTableData(data)\n",
    "mask = (data_v2['date'] >= start_date) & (data_v2['date'] <= end_date)\n",
    "\n",
    "data_thisweek = data_v2.loc[mask]\n",
    "\n",
    "task_breakdown       = data_thisweek.groupby('task_name').aggregate(np.sum)\n",
    "task_breakdown       = task_breakdown.reset_index()\n",
    "task_breakdown       = task_breakdown[['task_name','hrs']].sort('hrs', ascending = False)\n",
    "        \n",
    "task_breakdown.to_csv('task_breakdowns_5_8.csv')\n",
    "\n"
   ]
  },
  {
   "cell_type": "code",
   "execution_count": null,
   "metadata": {
    "collapsed": true
   },
   "outputs": [],
   "source": [
    "\n"
   ]
  }
 ],
 "metadata": {
  "kernelspec": {
   "display_name": "Python 2",
   "language": "python",
   "name": "python2"
  },
  "language_info": {
   "codemirror_mode": {
    "name": "ipython",
    "version": 2
   },
   "file_extension": ".py",
   "mimetype": "text/x-python",
   "name": "python",
   "nbconvert_exporter": "python",
   "pygments_lexer": "ipython2",
   "version": "2.7.11"
  }
 },
 "nbformat": 4,
 "nbformat_minor": 0
}
